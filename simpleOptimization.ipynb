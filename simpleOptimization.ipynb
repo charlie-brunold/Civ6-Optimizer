{
 "cells": [
  {
   "cell_type": "code",
   "execution_count": 1,
   "metadata": {},
   "outputs": [
    {
     "name": "stdout",
     "output_type": "stream",
     "text": [
      "Hello world!\n"
     ]
    }
   ],
   "source": [
    "print(\"Hello world!\")"
   ]
  },
  {
   "attachments": {},
   "cell_type": "markdown",
   "metadata": {},
   "source": [
    "### Civilization VI District Optimization Model (Terrain Adjacency Focus)\n",
    "\n",
    "##### **1. Introduction**\n",
    "The objective of this model is to determine the optimal placement of city districts within a defined city radius (e.g., 3 tiles, potentially represented by a 7x7 grid/matrix) around a pre-determined City Center tile. The goal is to maximize the total yield generated from adjacency bonuses provided by terrain features, specific resources, and adjacency to the City Center itself. This initial version explicitly excludes adjacency bonuses that districts provide to each other.\n",
    "\n",
    "##### **2. Data Sets**\n",
    "$\\text{Tiles}$: The set of all tile coordinates (x,y) within the defined city radius.  \n",
    "\n",
    "$(x_{cc}​,y_{cc}​) \\in \\text{Tiles}$: The specific coordinates of the pre-determined City Center tile.  \n",
    "\n",
    "$\\text{Tiles}_{\\text{Workable}} \\subset \\text{Tiles}$: The subset of tiles within the radius where districts can potentially be built (i.e., \"workable\" tiles). This excludes the City Center tile $(x_{cc}, y_{cc})$ and tiles with impassable terrain (like Mountains, unless buildable by specific civs/conditions), or water tiles unless suitable for specific districts (like Harbor).\n",
    "- Note: The exact definition of $\\text{Tiles}_{\\text{Workable}}$​ depends on game rules and potential civilization-specific abilities.  \n",
    "\n",
    "$\\text{Districts}$: The set of all possible district types considered (e.g., Campus, Holy Site, Commercial Hub, Harbor, Aqueduct, Entertainment Complex, Water Park, Industrial Zone, etc.).  \n",
    "\n",
    "$\\text{Districts}_{\\text{Unique}} \\subseteq \\text{Districts}$: The subset of districts that are unique per city (i.e., only one of each can be built). Most specialty districts belong here.  \n",
    "\n",
    "$\\text{Districts}_{\\text{Mutually Exclusive}}$​: A collection of subsets of $\\text{Districts}$, where each subset contains districts that are mutually exclusive with each other.\n",
    "Example: $\\text{Entertainment Complex}, \\text{Water Park} \\in \\text{Districts}_{\\text{Mutually Exclusive}}$.  \n",
    "\n",
    "$\\text{Features}$: The set of relevant terrain features, resources, or specific tile types that provide adjacency bonuses (e.g., Mountain, River, Coast, Reef, Geothermal Fissure, Rainforest, Woods, Natural Wonder, Strategic Resource, Luxury Resource, etc.).\n",
    "\n",
    "#### **3. Input Data**\n",
    "\n",
    "*These values are pre-determined based on the chosen City Center location and the surrounding map data.*  \n",
    "\n",
    "$Adj(x,y,x′,y′)$: Binary parameter. 1 if tile $(x,y)\\in \\text{Tiles}$ and tile $(x′,y′)\\in \\text{Tiles}$ are adjacent according to the game's hex grid rules, 0 otherwise.  \n",
    "\n",
    "$HasFeature(x′,y′,f)$: Binary parameter. 1 if tile $(x′,y′)\\in \\text{Tiles}$ possesses the feature or characteristic $f \\in \\text{Features}$, 0 otherwise.\n",
    "- Refinement Note: For features like Rivers, decide if f represents the river tile itself or if you use a parameter like $IsAdjacentToRiver(x,y)$ for buildable tiles next to a river. The latter is often easier for bonus calculation. Let's assume $HasFeature(x′,y′,River)$ means tile $(x′,y′)$ is a river tile.  \n",
    "\n",
    "$TerrainBonusValue(d,f)$: Numerical parameter. The base yield bonus value that district $d \\in \\text{Districts}$ receives for being adjacent to one instance of feature $f \\in \\text{Features}$ on an adjacent tile. (e.g., $TerrainBonusValue(\\text{Campus},\\text{Mountain})=+1 \\text{Science}$). This value should represent the weighted importance if optimizing across multiple yields, or the specific yield value if optimizing for one type (e.g., just Science).  \n",
    "\n",
    "$CCBonusValue(d)$: Numerical parameter. The base yield bonus value district $d \\in \\text{District}$ receives for being adjacent to the City Center tile $(x_{cc}​,y_{cc}​)$. (e.g., $CCBonusValue(\\text{Commercial Hub})=+1 \\text{Gold}$). Often 0 for many districts.  \n",
    "\n",
    "$IsAdjacentToCC(x,y)$: Binary parameter. 1 if $Adj(x,y,x_{cc}​,y_{cc}​)=1$, 0 otherwise. (Can be pre-calculated).  \n",
    "\n",
    "$IsAdjacentToFreshwater(x,y)$: Binary parameter. 1 if tile $(x,y)$ is adjacent to a tile $(x′,y′)$ which is a River, Lake, Oasis, or Mountain. (Can be pre-calculated).  \n",
    "\n",
    "$IsCoast(x,y)$: Binary parameter. 1 if tile $(x,y)$ is a Coast tile.\n",
    "\n",
    "$IsAdjacentToLand(x,y)$: Binary parameter. 1 if tile $(x,y)$ is adjacent to at least one land tile $(x′,y′)$. (Can be pre-calculated).\n",
    "\n",
    "#### **4. Decision Variables**\n",
    "\n",
    "$Build(x,y,d)$: Binary variable.\n",
    "- $Build(x,y,d)=1$ if district $d \\in \\text{Districts}$ is built on workable tile $(x,y)\\in \\text{Tiles}_{\\text{Workable}}$​.\n",
    "- $Build(x,y,d)=0$ otherwise.\n",
    "\n",
    "#### **5. Objective Function**\n",
    "Maximize the total weighted adjacency yield derived from adjacent terrain features/resources and adjacency to the City Center.\n",
    "$$\n",
    "\\begin{gathered}\n",
    "\\text{Max} \\quad \\sum_{(x,y) \\in \\text{Tiles}_{\\text{Workable}}} \\sum_{d \\in \\text{Districts}} Build(x, y, d) \\times \\\\\n",
    " \\left( \\left( \\sum_{(x',y') | Adj(x,y,x',y')} \\sum_{f \\in Features} HasFeature(x', y', f) \\times TerrainBonusValue(d, f) \\right) \\right. \\\\\n",
    " \\left. + IsAdjacentToCC(x,y) \\times CCBonusValue(d) \\right)\n",
    "\\end{gathered}\n",
    "$$\n",
    "Explanation:\n",
    "- The outer sums iterate through every possible district placement on every workable tile.\n",
    "- The term contributes to the sum only if $Build(x,y,d)=1$.\n",
    "- The first inner part $ \\sum_{(x',y') | Adj(x,y,x',y')} \\dots $ sums the bonuses district $d$ at $(x,y)$ gets from all relevant features f located on all adjacent tiles $(x′,y′)$.\n",
    "- The second inner part $ IsAdjacentToCC(x,y) \\times CCBonusValue(d) $ adds the bonus if the district is placed next to the City Center.\n",
    "\n",
    "#### **6. Constraints**\n",
    "**One District Per Workable Tile: Each workable tile can host at most one district.**  \n",
    "$$ \\sum_{d \\in \\text{Districts}} Build(x, y, d) \\leq 1 \\quad \\forall (x, y) \\in \\text{Tiles}_{\\text{Workable}} $$\n",
    "\n",
    "**Unique District Limit: Each district type designated as unique can only be built once within the city's radius.**\n",
    "$$ \\sum_{(x,y) \\in \\text{Tiles}_{\\text{Workable}}} Build(x, y, d) \\leq 1 \\quad \\forall d \\in \\text{Districts}_{\\text{Unique}} $$  \n",
    "\n",
    "**Mutual Exclusivity: For each set MES​et of mutually exclusive districts, at most one district from that set can be built.**\n",
    "$$ \\sum_{d \\in \\text{Mutually Exclusive}_{\\text{Set}}} \\sum_{(x,y) \\in \\text{Tiles}_{\\text{Workable}}} Build(x, y, d) \\leq 1 \\quad \\forall \\text{Mutually Exclusive}_{\\text{Set}} \\in \\text{Districts}_{\\text{Mutually Exclusive}} $$  \n",
    "###### (Example: For $\\text{Mutually Exclusive}_{\\text{Set}}=\\text{Entertainment Complex},\\text{Water Park}$ this becomes: $ \\sum_{(x,y) \\in \\text{Tiles}_{\\text{Workable}}} Build(x, y, \\text{Entertainment Complex}) + \\sum_{(x,y) \\in \\text{Tiles}_{\\text{Workable}}} Build(x, y, \\text{Water Park}) \\leq 1 $)\n",
    "\n",
    "**Aqueduct Placement Requirements: An Aqueduct can only be built if the tile (x,y) is adjacent to the City Center AND adjacent to a freshwater source.**\n",
    "$$ Build(x, y, \\text{Aqueduct}) \\leq IsAdjacentToCC(x, y) \\quad \\forall (x, y) \\in \\text{Tiles}_{\\text{Workable}} $$\n",
    "$$ Build(x, y, \\text{Aqueduct}) \\leq IsAdjacentToFreshwater(x, y) \\quad \\forall (x, y) \\in \\text{Tiles}_{\\text{Workable}} $$  \n",
    "\n",
    "###### (These constraints force $Build(x,y,\\text{Aqueduct})$ to be 0 if the conditions aren't met. The tile $(x,y)$ must also be in $\\text{Tiles}_{\\text{Workable}}$​).  \n",
    "\n",
    "**Harbor Placement Requirements: A Harbor can only be built if the tile (x,y) is a Coast tile AND is adjacent to a land tile.**   \n",
    "\n",
    "$$ Build(x, y, \\text{Harbor}) \\leq IsCoast(x, y) \\quad \\forall (x, y) \\in \\text{Tiles}_{\\text{Workable}} $$\n",
    "$$ Build(x, y, \\text{Harbor}) \\leq IsAdjacentToLand(x, y) \\quad \\forall (x, y) \\in \\text{Tiles}_{\\text{Workable}} $$\n",
    "###### (The tile $(x,y)$ must also be in $\\text{Tiles}_{\\text{Workable}}$​, meaning coast tiles suitable for harbors must be considered workable).  \n",
    "\n",
    "###### (Optional) Add Other Specific Placement Rules: Include similar constraints for districts like Dams, Canals, etc., based on their specific geographical requirements (e.g., must be on a river tile, must span two landmasses, etc.).\n",
    "\n",
    "\n"
   ]
  },
  {
   "cell_type": "markdown",
   "metadata": {},
   "source": []
  }
 ],
 "metadata": {
  "kernelspec": {
   "display_name": "Python 3",
   "language": "python",
   "name": "python3"
  },
  "language_info": {
   "codemirror_mode": {
    "name": "ipython",
    "version": 3
   },
   "file_extension": ".py",
   "mimetype": "text/x-python",
   "name": "python",
   "nbconvert_exporter": "python",
   "pygments_lexer": "ipython3",
   "version": "3.10.2"
  },
  "orig_nbformat": 4
 },
 "nbformat": 4,
 "nbformat_minor": 2
}
